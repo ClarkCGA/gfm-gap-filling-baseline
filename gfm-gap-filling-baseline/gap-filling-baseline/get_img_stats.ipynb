{
 "cells": [
  {
   "cell_type": "code",
   "execution_count": 37,
   "id": "e0e206e0-bf7e-4957-b43e-e657f00a2793",
   "metadata": {},
   "outputs": [],
   "source": [
    "import pandas as pd\n",
    "import os\n",
    "import pathlib\n",
    "import torch\n",
    "import rasterio\n",
    "from torch.utils.data import Dataset\n",
    "from torch.utils.data import DataLoader\n",
    "from tqdm import tqdm"
   ]
  },
  {
   "cell_type": "code",
   "execution_count": 22,
   "id": "f7aae044-b585-4a42-bb3e-d08839c157ec",
   "metadata": {},
   "outputs": [],
   "source": [
    "class SatelliteData(Dataset):\n",
    "    \n",
    "    def __init__(self, \n",
    "                 root):\n",
    "        self.root_dir = pathlib.Path(root)\n",
    "        self.image_dir = self.root_dir.joinpath(\"chips_filtered/\")\n",
    "        self.tif_paths = self._get_tif_paths()\n",
    "\n",
    "\n",
    "    def _get_tif_paths(self):\n",
    "        csv = pd.read_csv(self.root_dir.joinpath(\"final_chip_tracker.csv\"))\n",
    "        catalog = csv.loc[(csv[\"bad_pct_max\"] < 5) & (csv[\"na_count\"] == 0)]\n",
    "        itemlist = sorted(catalog[\"chip_id\"].tolist())\n",
    "        pathlist = [self.image_dir.joinpath(f\"{item}_merged.tif\") for item in itemlist]\n",
    "        chipslist = list(self.image_dir.glob(\"*.tif\"))\n",
    "        truelist = sorted(list(set(pathlist) & set(chipslist)))\n",
    "        return truelist\n",
    "\n",
    "    def __len__(self):\n",
    "        return len(self.tif_paths)\n",
    "\n",
    "    def __getitem__(self, index):\n",
    "        def read_tif_as_np_array(path):\n",
    "            with rasterio.open(path) as src:\n",
    "                    return src.read()\n",
    "\n",
    "        # Read in merged tif as ground truth\n",
    "        groundtruth = read_tif_as_np_array(self.tif_paths[index])\n",
    "        groundtruth = torch.tensor(groundtruth, dtype=torch.float32)\n",
    "        return groundtruth"
   ]
  },
  {
   "cell_type": "code",
   "execution_count": 42,
   "id": "734f76ad-19cf-4c62-8062-8309a775fa35",
   "metadata": {},
   "outputs": [
    {
     "name": "stdout",
     "output_type": "stream",
     "text": [
      "torch.Size([320, 18, 224, 224])\n"
     ]
    }
   ],
   "source": [
    "image_dataset = SatelliteData(root = \"/workspace/data/gapfill6band\")\n",
    "\n",
    "# data loader\n",
    "image_loader = DataLoader(image_dataset, \n",
    "                          batch_size  = 320, \n",
    "                          shuffle     = False)\n",
    "\n",
    "# display images\n",
    "for batch_idx, inputs in enumerate(image_loader):\n",
    "    print(inputs.shape)\n",
    "    break\n",
    "\n"
   ]
  },
  {
   "cell_type": "code",
   "execution_count": 43,
   "id": "6f849900-4795-454a-b143-84fb7bf441c6",
   "metadata": {},
   "outputs": [
    {
     "name": "stderr",
     "output_type": "stream",
     "text": [
      "100%|███████████████████████████████████████████| 25/25 [01:16<00:00,  3.05s/it]\n"
     ]
    }
   ],
   "source": [
    "psum    = torch.tensor([0.0, 0.0, 0.0, 0.0, 0.0, 0.0])\n",
    "psum_sq = torch.tensor([0.0, 0.0, 0.0, 0.0, 0.0, 0.0])\n",
    "\n",
    "# loop through images\n",
    "for tensor in tqdm(image_loader):\n",
    "    reshaped_tensor = torch.cat([tensor[:,0:6,:,:]] + [tensor[:,6:12,:,:]] + [tensor[:,12:18,:,:]], axis=2)\n",
    "    psum    += reshaped_tensor.sum(axis = [0, 2, 3])\n",
    "    psum_sq += (reshaped_tensor ** 2).sum(axis = [0, 2, 3])"
   ]
  },
  {
   "cell_type": "code",
   "execution_count": 46,
   "id": "10db185e-6d89-4d92-b61f-fa828d51eaeb",
   "metadata": {},
   "outputs": [
    {
     "name": "stdout",
     "output_type": "stream",
     "text": [
      "mean: tensor([ 495.7316,  814.1386,  924.5740, 2962.5623, 2640.8833, 1740.3031])\n",
      "std:  tensor([286.9569, 359.3304, 576.3471, 892.2656, 945.9432, 916.1625])\n"
     ]
    }
   ],
   "source": [
    "count = len(image_dataset) * 224 * 224 * 3\n",
    "\n",
    "# mean and std\n",
    "total_mean = psum / count\n",
    "total_var  = (psum_sq / count) - (total_mean ** 2)\n",
    "total_std  = torch.sqrt(total_var)\n",
    "\n",
    "# output\n",
    "print('mean: '  + str(total_mean))\n",
    "print('std:  '  + str(total_std))"
   ]
  },
  {
   "cell_type": "code",
   "execution_count": 47,
   "id": "09b01b84-6223-4071-9751-233e7bdb210a",
   "metadata": {},
   "outputs": [
    {
     "name": "stdout",
     "output_type": "stream",
     "text": [
      "7852\n"
     ]
    }
   ],
   "source": [
    "print(len(image_dataset))"
   ]
  },
  {
   "cell_type": "code",
   "execution_count": null,
   "id": "4daf687e-96b8-49d5-ae53-29588c191f7b",
   "metadata": {},
   "outputs": [],
   "source": []
  }
 ],
 "metadata": {
  "kernelspec": {
   "display_name": "Python 3 (ipykernel)",
   "language": "python",
   "name": "python3"
  },
  "language_info": {
   "codemirror_mode": {
    "name": "ipython",
    "version": 3
   },
   "file_extension": ".py",
   "mimetype": "text/x-python",
   "name": "python",
   "nbconvert_exporter": "python",
   "pygments_lexer": "ipython3",
   "version": "3.10.10"
  }
 },
 "nbformat": 4,
 "nbformat_minor": 5
}
