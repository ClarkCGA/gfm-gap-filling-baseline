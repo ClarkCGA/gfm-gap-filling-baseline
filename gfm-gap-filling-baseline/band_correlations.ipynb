{
 "cells": [
  {
   "cell_type": "code",
   "execution_count": 32,
   "id": "ab71d94e-0b1f-4ffd-9790-99948b728174",
   "metadata": {},
   "outputs": [],
   "source": [
    "import os\n",
    "import torch\n",
    "import datasets.gapfill\n",
    "import options.common\n",
    "import options.gan\n",
    "import matplotlib.pyplot as plt\n",
    "import numpy as np\n",
    "import seaborn as sns\n",
    "import pandas as pd\n",
    "import yaml\n",
    "from tqdm import tqdm\n",
    "from pathlib import Path"
   ]
  },
  {
   "cell_type": "code",
   "execution_count": 33,
   "id": "13c673a1-1987-4599-924d-21e2af67d3a2",
   "metadata": {},
   "outputs": [],
   "source": [
    "# set local rank and define mean and std tensors for normalization purposes\n",
    "local_rank = 1\n",
    "mean = torch.tensor([495.7316,  814.1386,  924.5740, 2962.5623, 2640.8833, 1740.3031])[None,:,None,None,None].to(local_rank)\n",
    "std = torch.tensor([286.9569, 359.3304, 576.3471, 892.2656, 945.9432, 916.1625])[None,:,None,None,None].to(local_rank)"
   ]
  },
  {
   "cell_type": "code",
   "execution_count": 34,
   "id": "e6a8fd05-4eba-4fb7-a48f-ec2a8d5fe6d6",
   "metadata": {},
   "outputs": [],
   "source": [
    "device = torch.device(\"cuda:{}\".format(local_rank))\n",
    "torch.cuda.set_device(device)"
   ]
  },
  {
   "cell_type": "code",
   "execution_count": 35,
   "id": "1311ee91",
   "metadata": {},
   "outputs": [],
   "source": [
    "# replace with the job ID of the experiment you want to visualize\n",
    "job_id = \"subset_6231_2024-01-30-19:45:13\""
   ]
  },
  {
   "cell_type": "code",
   "execution_count": 36,
   "id": "fdd79d3f-aa4e-41c1-a1a5-c8efbd731fb8",
   "metadata": {},
   "outputs": [],
   "source": [
    "checkpoint = Path(job_id)\n",
    "checkpoint_dir = Path(\"/workspace/gfm-gap-filling-baseline/data/results\") / checkpoint\n",
    "g_net_checkpoint = Path(\"/workspace/gfm-gap-filling-baseline/data/results\") / checkpoint / \"model_gnet_best.pt\""
   ]
  },
  {
   "cell_type": "code",
   "execution_count": 37,
   "id": "565d7518-e6b4-433e-bbc6-b06cf3753cdf",
   "metadata": {},
   "outputs": [],
   "source": [
    "# load the YAML file\n",
    "with open(checkpoint_dir / \"config.yml\", \"r\") as cfg_file:\n",
    "    CONFIG = yaml.safe_load(cfg_file)\n",
    "training_length = CONFIG['dataset']['training_length']\n",
    "experiment_name = f'{training_length} Chips'\n",
    "save_dir = checkpoint_dir"
   ]
  },
  {
   "cell_type": "code",
   "execution_count": 38,
   "id": "d6277de9-2bc7-4ba5-bf74-9156a60d8516",
   "metadata": {},
   "outputs": [
    {
     "name": "stdout",
     "output_type": "stream",
     "text": [
      "Number of validation images: 1621\n",
      "Number of validation cloud masks: 1600\n"
     ]
    }
   ],
   "source": [
    "train_transforms, test_transforms = options.common.get_transforms(CONFIG)\n",
    "\n",
    "# define validation dataset\n",
    "val_dataset = options.common.get_dataset(CONFIG, split=\"validate\", transforms=train_transforms)\n",
    "val_chip_dataframe = pd.DataFrame(val_dataset.tif_catalog)\n",
    "\n",
    "# ensure the length and number of masks are correct\n",
    "print(f\"Number of validation images: {len(val_dataset)}\")\n",
    "print(f\"Number of validation cloud masks: {val_dataset.n_cloudpaths}\")"
   ]
  },
  {
   "cell_type": "code",
   "execution_count": 39,
   "id": "68b9a7f6-2149-43f6-8b9b-06a234df0d74",
   "metadata": {},
   "outputs": [
    {
     "data": {
      "text/plain": [
       "<All keys matched successfully>"
      ]
     },
     "execution_count": 39,
     "metadata": {},
     "output_type": "execute_result"
    }
   ],
   "source": [
    "# prepare model\n",
    "g_net = options.gan.get_generator(CONFIG).to(device)\n",
    "\n",
    "g_net_state_dict = torch.load(g_net_checkpoint)\n",
    "\n",
    "g_net.load_state_dict(g_net_state_dict)"
   ]
  },
  {
   "cell_type": "code",
   "execution_count": 40,
   "id": "0d5f956f-3d59-4ae0-bf8e-46e31a1150b7",
   "metadata": {},
   "outputs": [
    {
     "name": "stdout",
     "output_type": "stream",
     "text": [
      "102\n"
     ]
    }
   ],
   "source": [
    "# setting up the dataset sampler the same as during training\n",
    "# it is very important that the batch size is identical to the batch size used during training\n",
    "val_sampler = torch.utils.data.SequentialSampler(val_dataset)\n",
    "val_dataloader = torch.utils.data.DataLoader(\n",
    "    val_dataset,\n",
    "    batch_size=16,\n",
    "    sampler=val_sampler)\n",
    "print(len(val_dataloader))"
   ]
  },
  {
   "cell_type": "code",
   "execution_count": 41,
   "id": "75b1988e-e6a2-4bd5-8f99-ce9b03b1185f",
   "metadata": {},
   "outputs": [
    {
     "name": "stderr",
     "output_type": "stream",
     "text": [
      "103it [00:26,  3.86it/s]                                                                                                \n"
     ]
    }
   ],
   "source": [
    "# get low coverage sample and full coverage sample by iterating over dataset\n",
    "for i, data in tqdm(enumerate(val_dataloader), initial = 1, total=102):\n",
    "    if i == 5:  # Batches are zero-indexed\n",
    "        sample = data\n",
    "    elif i == 80:\n",
    "        fullcoveragesample = data\n",
    "\n",
    "# send both samples to the cuda device\n",
    "sample = {k: v.to(device) for k, v in sample.items()}\n",
    "fullcoveragesample = {k: v.to(device) for k, v in fullcoveragesample.items()}\n",
    "\n",
    "# get input, run model, and get ground truth\n",
    "g_input = sample[\"masked\"]\n",
    "dest_fake = g_net(g_input)\n",
    "gen_unmasked = dest_fake * sample[\"cloud\"]"
   ]
  },
  {
   "cell_type": "code",
   "execution_count": 18,
   "id": "74d524c2-dec1-48bc-b81d-b50caa1cbd60",
   "metadata": {},
   "outputs": [],
   "source": [
    "# send tensors to numpy\n",
    "non_cloud = sample[\"masked\"].detach().cpu().numpy()\n",
    "predicted_masked = gen_unmasked.detach().cpu().numpy()\n",
    "input_masked = sample[\"unmasked\"].detach().cpu().numpy()\n",
    "\n",
    "# set values that are masked out to nan so the are not counted in visualizations\n",
    "non_cloud[non_cloud == 0] = np.nan\n",
    "predicted_masked[predicted_masked == 0] = np.nan\n",
    "input_masked[input_masked == 0] = np.nan"
   ]
  },
  {
   "cell_type": "code",
   "execution_count": 20,
   "id": "2e6db502-8378-4b31-9a81-9514ee44fe24",
   "metadata": {},
   "outputs": [
    {
     "name": "stderr",
     "output_type": "stream",
     "text": [
      "/tmp/ipykernel_1886/795000140.py:41: UserWarning: The figure layout has changed to tight\n",
      "  plt.tight_layout()\n",
      "/tmp/ipykernel_1886/795000140.py:52: UserWarning: The figure layout has changed to tight\n",
      "  plt.tight_layout()\n",
      "/tmp/ipykernel_1886/795000140.py:63: UserWarning: The figure layout has changed to tight\n",
      "  plt.tight_layout()\n"
     ]
    }
   ],
   "source": [
    "### creating a pairgrid for the low coverage image\n",
    "\n",
    "# putting the data into a dataframe where each column represents an ordered list of band values\n",
    "# the tensors are in format (Batch, Channel, Time Step, Height, Width)\n",
    "# therefore, we select the first batch of 1, each channel sequentially, the second time step, and all pixels within H and W\n",
    "non_cloud_data = pd.DataFrame({\n",
    "    'B2': non_cloud[0,[0,6,12],:,:].flatten(),\n",
    "    'B3': non_cloud[0,[1,7,13],:,:].flatten(),\n",
    "    'B4': non_cloud[0,[2,8,14],:,:].flatten(),\n",
    "    'B5': non_cloud[0,[3,9,15],:,:].flatten(),\n",
    "    'B7': non_cloud[0,[4,10,16],:,:].flatten(),\n",
    "    'B8': non_cloud[0,[5,11,17],:,:].flatten()\n",
    "})\n",
    "gen_data = pd.DataFrame({\n",
    "    'B2': predicted_masked[0,[0,6,12],:,:].flatten(),\n",
    "    'B3': predicted_masked[0,[1,7,13],:,:].flatten(),\n",
    "    'B4': predicted_masked[0,[2,8,14],:,:].flatten(),\n",
    "    'B5': predicted_masked[0,[3,9,15],:,:].flatten(),\n",
    "    'B7': predicted_masked[0,[4,10,16],:,:].flatten(),\n",
    "    'B8': predicted_masked[0,[5,11,17],:,:].flatten()\n",
    "})\n",
    "true_data = pd.DataFrame({\n",
    "    'B2': input_masked[0,[0,6,12],:,:].flatten(),\n",
    "    'B3': input_masked[0,[1,7,13],:,:].flatten(),\n",
    "    'B4': input_masked[0,[2,8,14],:,:].flatten(),\n",
    "    'B5': input_masked[0,[3,9,15],:,:].flatten(),\n",
    "    'B7': input_masked[0,[4,10,16],:,:].flatten(),\n",
    "    'B8': input_masked[0,[5,11,17],:,:].flatten()\n",
    "})\n",
    "\n",
    "# define 40 regular bin edges from 0 to 1 in increments of 0.025\n",
    "bin_edges = [round(i * 0.025, 3) for i in range(40)]\n",
    "\n",
    "# first pairgrid: true data, low coverage\n",
    "true_data_pairgrid = sns.PairGrid(true_data, diag_sharey=False)\n",
    "true_data_pairgrid.map_lower(sns.histplot, bins=bin_edges, color='red')\n",
    "true_data_pairgrid.map_diag(sns.histplot, bins=bin_edges, color='red')\n",
    "true_data_pairgrid.set(xlim=(0, 1), ylim=(0, 1))\n",
    "true_data_pairgrid.fig.set_size_inches(10, 10)\n",
    "plt.suptitle(f'Relationship Between Band Reflectance Values of Ground Truth Pixels\\nCGAN, {experiment_name}, Low Coverage', fontsize=16)\n",
    "plt.tight_layout()\n",
    "plt.savefig(save_dir / 'band_correlations_ground_truth_low_coverage.png', format='png')\n",
    "plt.close()\n",
    "\n",
    "# second pairgrid: generated data, low coverage\n",
    "gen_data_pairgrid = sns.PairGrid(gen_data, diag_sharey=False)\n",
    "gen_data_pairgrid.map_lower(sns.histplot, bins=bin_edges, color='blue')\n",
    "gen_data_pairgrid.map_diag(sns.histplot, bins=bin_edges, color='blue')\n",
    "gen_data_pairgrid.set(xlim=(0, 1), ylim=(0, 1))\n",
    "gen_data_pairgrid.fig.set_size_inches(10, 10)\n",
    "plt.suptitle(f'Relationship Between Band Reflectance Values of Generated Pixels\\nCGAN, {experiment_name}, Low Coverage', fontsize=16)\n",
    "plt.tight_layout()\n",
    "plt.savefig(save_dir / 'band_correlations_generated_low_coverage.png', format='png')\n",
    "plt.close()\n",
    "\n",
    "# third pairgrid: non-masked data, low coverage\n",
    "non_cloud_pairgrid = sns.PairGrid(non_cloud_data, diag_sharey=False)\n",
    "non_cloud_pairgrid.map_lower(sns.histplot, bins=bin_edges, color='green')\n",
    "non_cloud_pairgrid.map_diag(sns.histplot, bins=bin_edges, color='green')\n",
    "non_cloud_pairgrid.set(xlim=(0, 1), ylim=(0, 1))\n",
    "non_cloud_pairgrid.fig.set_size_inches(10, 10)\n",
    "plt.suptitle(f'Relationship Between Band Reflectance Values of Non-Cloud Pixels\\nCGAN, {experiment_name}, Low Coverage', fontsize=16)\n",
    "plt.tight_layout()\n",
    "plt.savefig(save_dir / 'band_correlations_non_cloud_low_coverage.png', format='png')\n",
    "plt.close()"
   ]
  },
  {
   "cell_type": "code",
   "execution_count": 42,
   "id": "88a9e91a-939b-41df-bb08-dc0483fbd675",
   "metadata": {},
   "outputs": [],
   "source": [
    "# get input, run model, and get ground truth for full coverage sample\n",
    "g_input = fullcoveragesample[\"masked\"]\n",
    "dest_fake = g_net(g_input)\n",
    "gen_unmasked = dest_fake * fullcoveragesample[\"cloud\"]\n",
    "\n",
    "# send tensors to numpy\n",
    "non_cloud = fullcoveragesample[\"masked\"].detach().cpu().numpy()\n",
    "predicted_masked = gen_unmasked.detach().cpu().numpy()\n",
    "input_masked = fullcoveragesample[\"unmasked\"].detach().cpu().numpy()\n",
    "\n",
    "# set values that are masked out to nan so the are not counted in visualizations\n",
    "non_cloud[non_cloud == 0] = np.nan\n",
    "predicted_masked[predicted_masked == 0] = np.nan\n",
    "input_masked[input_masked == 0] = np.nan"
   ]
  },
  {
   "cell_type": "code",
   "execution_count": 43,
   "id": "e6a2a98b-6dba-4874-855f-cfe3fa400633",
   "metadata": {},
   "outputs": [
    {
     "name": "stderr",
     "output_type": "stream",
     "text": [
      "/tmp/ipykernel_1886/865516218.py:41: UserWarning: The figure layout has changed to tight\n",
      "  plt.tight_layout()\n",
      "/tmp/ipykernel_1886/865516218.py:52: UserWarning: The figure layout has changed to tight\n",
      "  plt.tight_layout()\n",
      "/tmp/ipykernel_1886/865516218.py:63: UserWarning: The figure layout has changed to tight\n",
      "  plt.tight_layout()\n"
     ]
    }
   ],
   "source": [
    "### creating a pairgrid for the full coverage image\n",
    "\n",
    "# putting the data into a dataframe where each column represents an ordered list of band values\n",
    "# the tensors are in format (Batch, Channel, Time Step, Height, Width)\n",
    "# therefore, we select the first batch of 1, each channel sequentially, the second time step, and all pixels within H and W\n",
    "non_cloud_data = pd.DataFrame({\n",
    "    'B2': non_cloud[0,[0,6,12],:,:].flatten(),\n",
    "    'B3': non_cloud[0,[1,7,13],:,:].flatten(),\n",
    "    'B4': non_cloud[0,[2,8,14],:,:].flatten(),\n",
    "    'B5': non_cloud[0,[3,9,15],:,:].flatten(),\n",
    "    'B7': non_cloud[0,[4,10,16],:,:].flatten(),\n",
    "    'B8': non_cloud[0,[5,11,17],:,:].flatten()\n",
    "})\n",
    "gen_data = pd.DataFrame({\n",
    "    'B2': predicted_masked[0,[0,6,12],:,:].flatten(),\n",
    "    'B3': predicted_masked[0,[1,7,13],:,:].flatten(),\n",
    "    'B4': predicted_masked[0,[2,8,14],:,:].flatten(),\n",
    "    'B5': predicted_masked[0,[3,9,15],:,:].flatten(),\n",
    "    'B7': predicted_masked[0,[4,10,16],:,:].flatten(),\n",
    "    'B8': predicted_masked[0,[5,11,17],:,:].flatten()\n",
    "})\n",
    "true_data = pd.DataFrame({\n",
    "    'B2': input_masked[0,[0,6,12],:,:].flatten(),\n",
    "    'B3': input_masked[0,[1,7,13],:,:].flatten(),\n",
    "    'B4': input_masked[0,[2,8,14],:,:].flatten(),\n",
    "    'B5': input_masked[0,[3,9,15],:,:].flatten(),\n",
    "    'B7': input_masked[0,[4,10,16],:,:].flatten(),\n",
    "    'B8': input_masked[0,[5,11,17],:,:].flatten()\n",
    "})\n",
    "\n",
    "# define 40 regular bin edges from 0 to 1 in increments of 0.025\n",
    "bin_edges = [round(i * 0.025, 3) for i in range(40)]\n",
    "\n",
    "# first pairgrid: true data, high coverage\n",
    "true_data_pairgrid = sns.PairGrid(true_data, diag_sharey=False)\n",
    "true_data_pairgrid.map_lower(sns.histplot, bins=bin_edges, color='red')\n",
    "true_data_pairgrid.map_diag(sns.histplot, bins=bin_edges, color='red')\n",
    "true_data_pairgrid.set(xlim=(0, 1), ylim=(0, 1))\n",
    "true_data_pairgrid.fig.set_size_inches(10, 10)\n",
    "plt.suptitle(f'Relationship Between Band Reflectance Values of Ground Truth Pixels\\nCGAN, {experiment_name}, Full Coverage', fontsize=16)\n",
    "plt.tight_layout()\n",
    "plt.savefig(save_dir / 'band_correlations_ground_truth_full_coverage.png', format='png')\n",
    "plt.close()\n",
    "\n",
    "# second pairgrid: generated data, high coverage\n",
    "gen_data_pairgrid = sns.PairGrid(gen_data, diag_sharey=False)\n",
    "gen_data_pairgrid.map_lower(sns.histplot, bins=bin_edges, color='blue')\n",
    "gen_data_pairgrid.map_diag(sns.histplot, bins=bin_edges, color='blue')\n",
    "gen_data_pairgrid.set(xlim=(0, 1), ylim=(0, 1))\n",
    "gen_data_pairgrid.fig.set_size_inches(10, 10)\n",
    "plt.suptitle(f'Relationship Between Band Reflectance Values of Generated Pixels\\nCGAN, {experiment_name}, Full Coverage', fontsize=16)\n",
    "plt.tight_layout()\n",
    "plt.savefig(save_dir / 'band_correlations_generated_full_coverage.png', format='png')\n",
    "plt.close()\n",
    "\n",
    "# third pairgrid: non-masked data, low coverage\n",
    "non_cloud_pairgrid = sns.PairGrid(non_cloud_data, diag_sharey=False)\n",
    "non_cloud_pairgrid.map_lower(sns.histplot, bins=bin_edges, color='green')\n",
    "non_cloud_pairgrid.map_diag(sns.histplot, bins=bin_edges, color='green')\n",
    "non_cloud_pairgrid.set(xlim=(0, 1), ylim=(0, 1))\n",
    "non_cloud_pairgrid.fig.set_size_inches(10, 10)\n",
    "plt.suptitle(f'Relationship Between Band Reflectance Values of Non-Cloud Pixels\\nCGAN, {experiment_name}, Full Coverage', fontsize=16)\n",
    "plt.tight_layout()\n",
    "plt.savefig(save_dir / 'band_correlations_non_cloud_full_coverage.png', format='png')\n",
    "plt.close()"
   ]
  },
  {
   "cell_type": "code",
   "execution_count": 54,
   "id": "5bbe0d3b-7c54-4a14-90f1-b5918751f377",
   "metadata": {},
   "outputs": [
    {
     "name": "stderr",
     "output_type": "stream",
     "text": [
      "100%|█████████████████████████████████████████████████████████████████████████████████████| 4/4 [00:01<00:00,  1.53it/s]\n"
     ]
    }
   ],
   "source": [
    "# Adding pixel values to tensors iteratively\n",
    "\n",
    "# initialize empty tensors to which we will concatenate pixel values for each band\n",
    "# as we have 6 bands, we initialize empty tensors of size (6, 0)\n",
    "# the tensors will be (Channel, B*H*W)\n",
    "true_pixels = torch.empty((6, 0)).to(local_rank)\n",
    "gen_pixels = torch.empty((6, 0)).to(local_rank)\n",
    "non_cloud_pixels = torch.empty((6, 0)).to(local_rank)\n",
    "\n",
    "g_net.eval()\n",
    "\n",
    "with torch.no_grad():\n",
    "    for idx, sample in tqdm(enumerate(val_dataloader), initial = 1, total=4):\n",
    "        # send sample to device\n",
    "        sample = {k: v.to(device) for k, v in sample.items()}\n",
    "        \n",
    "        # get input, run model, get ground truth\n",
    "        g_input = sample[\"masked\"]\n",
    "        dest_fake = g_net(g_input)\n",
    "        gen_unmasked = dest_fake * sample[\"cloud\"]\n",
    "        \n",
    "        # reshape (B, C, H, W) to (6, B*H*W), where we take the 6 bands representing the middle time step\n",
    "        non_cloud_pixels_data = sample[\"masked\"][:,:6,:,:].permute(1, 0, 2, 3).contiguous().view(6,-1)\n",
    "        gen_pixels_data = gen_unmasked[:,:6,:,:].permute(1, 0, 2, 3).contiguous().view(6,-1)\n",
    "        true_pixels_data = sample[\"unmasked\"][:,:6,:,:].permute(1, 0, 2, 3).contiguous().view(6,-1)\n",
    "\n",
    "        non_cloud_pixels_data2 = sample[\"masked\"][:,6:12,:,:].permute(1, 0, 2, 3).contiguous().view(6,-1)\n",
    "        gen_pixels_data2 = gen_unmasked[:,6:12,:,:].permute(1, 0, 2, 3).contiguous().view(6,-1)\n",
    "        true_pixels_data2 = sample[\"unmasked\"][:,6:12,:,:].permute(1, 0, 2, 3).contiguous().view(6,-1)\n",
    "\n",
    "        non_cloud_pixels_data3 = sample[\"masked\"][:,12:,:,:].permute(1, 0, 2, 3).contiguous().view(6,-1)\n",
    "        gen_pixels_data3 = gen_unmasked[:,12:,:,:].permute(1, 0, 2, 3).contiguous().view(6,-1)\n",
    "        true_pixels_data3 = sample[\"unmasked\"][:,12:,:,:].permute(1, 0, 2, 3).contiguous().view(6,-1)\n",
    "\n",
    "        # concatenate all pixel values from middle time step for each band to running tensors\n",
    "        true_pixels = torch.cat((true_pixels, true_pixels_data, true_pixels_data2, true_pixels_data3), dim=1)\n",
    "        gen_pixels = torch.cat((gen_pixels, gen_pixels_data, gen_pixels_data2, gen_pixels_data3), dim=1)\n",
    "        non_cloud_pixels = torch.cat((non_cloud_pixels, non_cloud_pixels_data, non_cloud_pixels_data2, non_cloud_pixels_data3), dim=1) \n",
    "        \n",
    "        # at the last iteration, send tensors to numpy and set 0 values to np.nan\n",
    "        if idx + 1 == 4:\n",
    "            true_pixels = true_pixels.cpu().numpy()\n",
    "            gen_pixels = gen_pixels.cpu().numpy()\n",
    "            non_cloud_pixels = non_cloud_pixels.cpu().numpy()\n",
    "            true_pixels[true_pixels == 0] = np.nan\n",
    "            gen_pixels[gen_pixels == 0] = np.nan\n",
    "            non_cloud_pixels[non_cloud_pixels == 0] = np.nan\n",
    "            break"
   ]
  },
  {
   "cell_type": "code",
   "execution_count": 55,
   "id": "dbf6ec07-9979-4751-89c6-014c5920ff9e",
   "metadata": {},
   "outputs": [],
   "source": [
    "# putting these values in a dataframe\n",
    "\n",
    "non_cloud_data = pd.DataFrame({\n",
    "    'B2': non_cloud_pixels[0],\n",
    "    'B3': non_cloud_pixels[1],\n",
    "    'B4': non_cloud_pixels[2],\n",
    "    'B5': non_cloud_pixels[3],\n",
    "    'B7': non_cloud_pixels[4],\n",
    "    'B8': non_cloud_pixels[5]\n",
    "})\n",
    "gen_data = pd.DataFrame({\n",
    "    'B2': gen_pixels[0],\n",
    "    'B3': gen_pixels[1],\n",
    "    'B4': gen_pixels[2],\n",
    "    'B5': gen_pixels[3],\n",
    "    'B7': gen_pixels[4],\n",
    "    'B8': gen_pixels[5]\n",
    "})\n",
    "true_data = pd.DataFrame({\n",
    "    'B2': true_pixels[0],\n",
    "    'B3': true_pixels[1],\n",
    "    'B4': true_pixels[2],\n",
    "    'B5': true_pixels[3],\n",
    "    'B7': true_pixels[4],\n",
    "    'B8': true_pixels[5]\n",
    "})"
   ]
  },
  {
   "cell_type": "code",
   "execution_count": 56,
   "id": "ba5c84c0-1979-4d99-8f3c-63a7af98276f",
   "metadata": {},
   "outputs": [
    {
     "name": "stderr",
     "output_type": "stream",
     "text": [
      "/tmp/ipykernel_1886/3772493159.py:11: UserWarning: The figure layout has changed to tight\n",
      "  plt.tight_layout()\n",
      "/tmp/ipykernel_1886/3772493159.py:22: UserWarning: The figure layout has changed to tight\n",
      "  plt.tight_layout()\n",
      "/tmp/ipykernel_1886/3772493159.py:33: UserWarning: The figure layout has changed to tight\n",
      "  plt.tight_layout()\n"
     ]
    }
   ],
   "source": [
    "# define 40 regular bin edges from 0 to 1 in increments of 0.025\n",
    "bin_edges = [round(i * 0.025, 3) for i in range(40)]\n",
    "\n",
    "# first pairgrid: true data, all pixels in 192 images\n",
    "true_data_pairgrid = sns.PairGrid(true_data, diag_sharey=False)\n",
    "true_data_pairgrid.map_lower(sns.histplot, bins=bin_edges, color='red')\n",
    "true_data_pairgrid.map_diag(sns.histplot, bins=bin_edges, color='red')\n",
    "true_data_pairgrid.set(xlim=(0, 1), ylim=(0, 1))\n",
    "true_data_pairgrid.fig.set_size_inches(10, 10)\n",
    "plt.suptitle(f'Relationship Between Band Reflectance Values of Ground Truth Pixels\\nCGAN, {experiment_name}, 64 Test Images', fontsize=16)\n",
    "plt.tight_layout()\n",
    "plt.savefig(save_dir / 'band_correlations_ground_truth_all.png', format='png')\n",
    "plt.close()\n",
    "\n",
    "# second pairgrid: generated data, all pixels in 192 images\n",
    "gen_data_pairgrid = sns.PairGrid(gen_data, diag_sharey=False)\n",
    "gen_data_pairgrid.map_lower(sns.histplot, bins=bin_edges, color='blue')\n",
    "gen_data_pairgrid.map_diag(sns.histplot, bins=bin_edges, color='blue')\n",
    "gen_data_pairgrid.set(xlim=(0, 1), ylim=(0, 1))\n",
    "gen_data_pairgrid.fig.set_size_inches(10, 10)\n",
    "plt.suptitle(f'Relationship Between Band Reflectance Values of Generated Pixels\\nCGAN, {experiment_name}, 64 Test Images', fontsize=16)\n",
    "plt.tight_layout()\n",
    "plt.savefig(save_dir / 'band_correlations_generated_all.png', format='png')\n",
    "plt.close()\n",
    "\n",
    "# third pairgrid: non cloud data, all pixels in 192 images\n",
    "non_cloud_pairgrid = sns.PairGrid(non_cloud_data, diag_sharey=False)\n",
    "non_cloud_pairgrid.map_lower(sns.histplot, bins=bin_edges, color='green')\n",
    "non_cloud_pairgrid.map_diag(sns.histplot, bins=bin_edges, color='green')\n",
    "non_cloud_pairgrid.set(xlim=(0, 1), ylim=(0, 1))\n",
    "non_cloud_pairgrid.fig.set_size_inches(10, 10)\n",
    "plt.suptitle(f'Relationship Between Band Reflectance Values of Non-Cloud Pixels\\nCGAN, {experiment_name}, 64 Test Images', fontsize=16)\n",
    "plt.tight_layout()\n",
    "plt.savefig(save_dir / 'band_correlations_non_cloud_all.png', format='png')\n",
    "plt.close()"
   ]
  },
  {
   "cell_type": "code",
   "execution_count": null,
   "id": "ef9daac7-6279-4491-a6a6-19a756039557",
   "metadata": {},
   "outputs": [],
   "source": []
  }
 ],
 "metadata": {
  "kernelspec": {
   "display_name": "Python 3 (ipykernel)",
   "language": "python",
   "name": "python3"
  },
  "language_info": {
   "codemirror_mode": {
    "name": "ipython",
    "version": 3
   },
   "file_extension": ".py",
   "mimetype": "text/x-python",
   "name": "python",
   "nbconvert_exporter": "python",
   "pygments_lexer": "ipython3",
   "version": "3.10.10"
  }
 },
 "nbformat": 4,
 "nbformat_minor": 5
}
